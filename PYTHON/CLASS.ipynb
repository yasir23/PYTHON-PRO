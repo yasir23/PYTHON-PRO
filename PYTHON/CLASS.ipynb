{
 "cells": [
  {
   "cell_type": "markdown",
   "metadata": {},
   "source": [
    "# starting the class of python\n"
   ]
  },
  {
   "cell_type": "markdown",
   "metadata": {},
   "source": [
    "print(\"hello world\")\n"
   ]
  },
  {
   "cell_type": "code",
   "execution_count": null,
   "metadata": {},
   "outputs": [],
   "source": [
    "print(\"Hello world\")"
   ]
  },
  {
   "cell_type": "code",
   "execution_count": 3,
   "metadata": {},
   "outputs": [
    {
     "name": "stdout",
     "output_type": "stream",
     "text": [
      "Muhammad Ali\n",
      "Master in Machine learning\n"
     ]
    }
   ],
   "source": [
    "name : str = 'Muhammad Ali'\n",
    "fname : str = \"Muhammad faiq\"\n",
    "education : str = \"\"\"Master in Machine learning\"\"\"\n",
    "\n",
    "\n",
    "print(name)\n",
    "print(education)"
   ]
  },
  {
   "cell_type": "code",
   "execution_count": 4,
   "metadata": {},
   "outputs": [
    {
     "data": {
      "text/plain": [
       "'abc'"
      ]
     },
     "execution_count": 4,
     "metadata": {},
     "output_type": "execute_result"
    }
   ],
   "source": [
    "\"a\" + \"b\" + \"c\""
   ]
  },
  {
   "cell_type": "code",
   "execution_count": 7,
   "metadata": {},
   "outputs": [
    {
     "name": "stdout",
     "output_type": "stream",
     "text": [
      "\n",
      "\n",
      "PIAIC STUDENT  CARD\n",
      "STUDENT NAME :          Muhammad Ali\n",
      "FATHER'S NAME :         Muhammad faiq\n",
      "AGE :                   14\n",
      "EDUCATION :             Master in Machine learning\n",
      "\n",
      "\n"
     ]
    }
   ],
   "source": [
    "name : str = 'Muhammad Ali'\n",
    "fname : str = \"Muhammad faiq\"\n",
    "age : str = \"14\"\n",
    "education : str = \"\"\"Master in Machine learning\"\"\"\n",
    "\n",
    "card : str = f\"\"\"\n",
    "\n",
    "PIAIC STUDENT  CARD\n",
    "STUDENT NAME :          {name}\n",
    "FATHER'S NAME :         {fname}\n",
    "AGE :                   {age}\n",
    "EDUCATION :             {education}\n",
    "\n",
    "Total {1 + 2 +12 + 123}\n",
    "\"\"\"\n",
    "\n",
    "print(card)\n"
   ]
  }
 ],
 "metadata": {
  "kernelspec": {
   "display_name": "python12",
   "language": "python",
   "name": "python3"
  },
  "language_info": {
   "codemirror_mode": {
    "name": "ipython",
    "version": 3
   },
   "file_extension": ".py",
   "mimetype": "text/x-python",
   "name": "python",
   "nbconvert_exporter": "python",
   "pygments_lexer": "ipython3",
   "version": "3.12.0"
  }
 },
 "nbformat": 4,
 "nbformat_minor": 2
}
